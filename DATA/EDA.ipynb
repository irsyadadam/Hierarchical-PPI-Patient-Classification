{
 "cells": [
  {
   "cell_type": "code",
   "execution_count": 1,
   "id": "24e8fd94-c0e1-4519-ae90-4119dabeaf18",
   "metadata": {},
   "outputs": [],
   "source": [
    "#stl\n",
    "import os\n",
    "import warnings\n",
    "\n",
    "#data handling\n",
    "import pandas as pd\n",
    "import numpy as np\n",
    "from tqdm import tqdm_notebook as tqdm\n",
    "\n",
    "#stats\n",
    "import scipy\n",
    "import sklearn\n",
    "\n",
    "#network\n",
    "import networkx as nx\n",
    "\n",
    "#vis\n",
    "import matplotlib.pyplot as plt\n",
    "import seaborn as sns\n",
    "\n",
    "#torch\n",
    "import h5py\n",
    "import anndata\n",
    "import scanpy as sc\n",
    "\n",
    "sns.set(font_scale = 1.5)\n",
    "sns.set_theme()"
   ]
  },
  {
   "cell_type": "markdown",
   "id": "bd087449-8001-4316-a82e-1ce1d3756d54",
   "metadata": {},
   "source": [
    "# Data Preprocessing\n",
    "\n",
    "**Output: multiple values of shared genes between all patients**\n",
    "\n",
    "0. Find downstream coding protein genes\n",
    "1. Find gene intersection list between all patients\n",
    "2. Find cell type intersection list between all patients\n",
    "3. Find gene intersection list in cell type intersections between all patients"
   ]
  },
  {
   "cell_type": "markdown",
   "id": "420642cd-25fa-4eb8-9fec-6602cd015b4f",
   "metadata": {},
   "source": [
    "## Data Filtering Assay\n",
    "\n",
    "https://medium.com/@adam.nik/scrna-filtering-and-normalization-with-scanpy-adeae2577862"
   ]
  },
  {
   "cell_type": "code",
   "execution_count": 2,
   "id": "f236cab0-ab4e-46c1-ac14-1c0ef3052df8",
   "metadata": {},
   "outputs": [
    {
     "data": {
      "text/plain": [
       "AnnData object with n_obs × n_vars = 881081 × 33145\n",
       "    obs: 'Sample', 'donor_id', 'Region_x', 'Primary.Genetic.Diagnosis', 'n_genes', 'n_counts', 'percent_mito', 'percent_ribo', 'scrublet_score_z', 'scrublet_score_log', 'solo_score', 'cell_states', 'Assigned', 'self_reported_ethnicity_ontology_term_id', 'disease_ontology_term_id', 'cell_type_ontology_term_id', 'sex_ontology_term_id', 'assay_ontology_term_id', 'organism_ontology_term_id', 'is_primary_data', 'tissue_ontology_term_id', 'development_stage_ontology_term_id', 'suspension_type', 'tissue_type', 'cell_type', 'assay', 'disease', 'organism', 'sex', 'tissue', 'self_reported_ethnicity', 'development_stage', 'observation_joinid'\n",
       "    var: 'feature_is_filtered', 'feature_name', 'feature_reference', 'feature_biotype', 'feature_length'\n",
       "    uns: 'cell_states_colors', 'cell_type_ontology_term_id_colors', 'citation', 'leiden', 'neighbors', 'pca', 'schema_reference', 'schema_version', 'title', 'umap'\n",
       "    obsm: 'X_pca', 'X_umap'"
      ]
     },
     "execution_count": 2,
     "metadata": {},
     "output_type": "execute_result"
    }
   ],
   "source": [
    "adata = anndata.read_h5ad(\"3716fb19-cedd-4fe5-abc4-5dbeb007fb65.h5ad\")\n",
    "adata"
   ]
  },
  {
   "cell_type": "code",
   "execution_count": null,
   "id": "83bb3013-13e9-4b40-a62b-5df06e3fb4df",
   "metadata": {},
   "outputs": [],
   "source": [
    "#convert to gpu\n",
    "import rapids_singlecell as rsc\n",
    "rsc.get.anndata_to_GPU(adata=adata) \n",
    "cudata"
   ]
  },
  {
   "cell_type": "markdown",
   "id": "8438fe59-9200-48f4-b00e-385fdb31cbed",
   "metadata": {},
   "source": [
    "**Quality Control based on Ribosomal or Mitochondrial Cells**"
   ]
  },
  {
   "cell_type": "code",
   "execution_count": 3,
   "id": "9ea46ddc-72a7-44cf-a1f6-d2ae4a916172",
   "metadata": {},
   "outputs": [],
   "source": [
    "# mitochondrial genes\n",
    "adata.var[\"mt\"] = adata.var_names.str.startswith(\"MT-\")\n",
    "# ribosomal genes\n",
    "adata.var[\"ribo\"] = adata.var_names.str.startswith((\"RPS\", \"RPL\"))"
   ]
  },
  {
   "cell_type": "code",
   "execution_count": null,
   "id": "4666fac9-a860-478d-8d8f-c120c31a3133",
   "metadata": {},
   "outputs": [],
   "source": [
    "sc.pp.calculate_qc_metrics(\n",
    "    adata, qc_vars=[\"mt\", \"ribo\"], inplace=True, percent_top=[20], log1p=True\n",
    ")"
   ]
  },
  {
   "cell_type": "code",
   "execution_count": null,
   "id": "e2a76fad-d138-4ff5-b90e-f95cd15504bc",
   "metadata": {},
   "outputs": [],
   "source": []
  }
 ],
 "metadata": {
  "kernelspec": {
   "display_name": "singlecell_CUDA",
   "language": "python",
   "name": "singlecell_cuda"
  },
  "language_info": {
   "codemirror_mode": {
    "name": "ipython",
    "version": 3
   },
   "file_extension": ".py",
   "mimetype": "text/x-python",
   "name": "python",
   "nbconvert_exporter": "python",
   "pygments_lexer": "ipython3",
   "version": "3.11.9"
  }
 },
 "nbformat": 4,
 "nbformat_minor": 5
}
